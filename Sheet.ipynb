{
 "cells": [
  {
   "cell_type": "markdown",
   "metadata": {},
   "source": [
    "# Filtro de spam"
   ]
  },
  {
   "cell_type": "markdown",
   "metadata": {},
   "source": [
    "### Entrenamiento:\n",
    "- def procesar-linea que devuelve conjunto de palabras únicas\n",
    "- def que para 'ham.mbox' o 'spam.mbox' devuelve Dict de la forma { 'w' : x} con w = palabra única y x ocurrencias en .mbox por correo\n",
    "\n",
    "### Clasificación:\n",
    "- <s>def que devuelva un generator que devuelva 1 conjunto de palabras únicas por cada correo de 'news.box'</s>\n",
    "- def que devuelva P(y|xw) para cada palabra w del conjunto de palabras anterior usando el dict de Entrenamiento\n",
    "- def que devuelva lista de 15 palabras de mejor clasificación individual de un correo nuevo\n",
    "- def que devuelva P(y|x1, . . . , x15) de la lista anterior\n",
    "- def que devuelva lista de 0 o 1 por cada correo de 'news.mbox' en el mismo orden\n",
    "\n",
    "### Incorporación:\n",
    "- def que devuelva conjunto de palabras únicas de un 'new-spam.mbox' o 'new-ham.mbox' que contiene un solo mensaje\n",
    "- def que combine el anterior conjunto al dict de entrenamiento aumentando en 1 cada valor\n",
    "- def que escriba el nuevo correo 'new-spam.mbox' o 'new-ham.mbox' en el fichero que corresponda\n",
    "\n"
   ]
  },
  {
   "cell_type": "markdown",
   "metadata": {},
   "source": [
    "# En común\n",
    "Aquí van los imports y las funciones en común, si las hay."
   ]
  },
  {
   "cell_type": "code",
   "execution_count": null,
   "metadata": {
    "collapsed": false
   },
   "outputs": [],
   "source": [
    "import re"
   ]
  },
  {
   "cell_type": "code",
   "execution_count": null,
   "metadata": {
    "collapsed": true
   },
   "outputs": [],
   "source": [
    "# Agrega las palabras de una linea al conjunto words,\n",
    "# separadas por el regex delimiter\n",
    "delimiter = '[,. ()]|\\n'\n",
    "def process_line(line, words):\n",
    "    for word in re.split(delimiter, line):\n",
    "        words.add(word)"
   ]
  },
  {
   "cell_type": "markdown",
   "metadata": {},
   "source": [
    "# Entrenamiento"
   ]
  },
  {
   "cell_type": "code",
   "execution_count": null,
   "metadata": {
    "collapsed": true
   },
   "outputs": [],
   "source": []
  },
  {
   "cell_type": "markdown",
   "metadata": {},
   "source": [
    "# Clasificación"
   ]
  },
  {
   "cell_type": "code",
   "execution_count": null,
   "metadata": {
    "collapsed": true
   },
   "outputs": [],
   "source": []
  },
  {
   "cell_type": "code",
   "execution_count": null,
   "metadata": {
    "collapsed": true
   },
   "outputs": [],
   "source": [
    "# Devuelve un conjunto de palabras de un solo correo\n",
    "def single_mail_words(lines):\n",
    "    while True:\n",
    "        bunch = set()\n",
    "        for subject in lines:\n",
    "            if subject.startswith(\"Subject: \"):\n",
    "                break\n",
    "        else:\n",
    "            break\n",
    "        \n",
    "        process_line(subject[9:], bunch)\n",
    "\n",
    "        for status in lines:\n",
    "            if status == \"X-KMail-MDN-Sent:  \\n\":\n",
    "                break\n",
    "\n",
    "        intro = fromOne = False\n",
    "        for line in lines:\n",
    "            if line == '\\n' :\n",
    "                intro = True\n",
    "                continue\n",
    "            elif line.startswith('From: ') and fromOne :\n",
    "                break\n",
    "            elif line.startswith('From ') and intro :\n",
    "                fromOne = True\n",
    "            else:\n",
    "                intro = False\n",
    "                process_line(line, bunch)\n",
    "                \n",
    "        bunch.remove('')\n",
    "        yield bunch"
   ]
  },
  {
   "cell_type": "code",
   "execution_count": null,
   "metadata": {
    "collapsed": false
   },
   "outputs": [],
   "source": [
    "# Devuelve generator que recorre los mails de un archivo,\n",
    "# devolviendo mailwords() de cada mail\n",
    "def each_mail_words(file):\n",
    "    with open(file) as fp:\n",
    "        lines = iter(fp.readlines())\n",
    "        for msg in single_mail_words(lines):\n",
    "            yield msg"
   ]
  },
  {
   "cell_type": "code",
   "execution_count": null,
   "metadata": {
    "collapsed": false
   },
   "outputs": [],
   "source": [
    "# Testing\n",
    "spambox = './spam.mbox'\n",
    "hambox = './ham.mbox'\n",
    "newsbox = './news.mbox'\n",
    "\n",
    "#Descomentar alguno para probar\n",
    "#for words in each_mail_words(spambox):\n",
    "#    print(words)\n",
    "#for words in each_mail_words(hambox):\n",
    "#    print(words)\n",
    "#for words in each_mail_words(newsbox):\n",
    "#    print(words)\n"
   ]
  },
  {
   "cell_type": "markdown",
   "metadata": {},
   "source": [
    "# Incorporación"
   ]
  },
  {
   "cell_type": "code",
   "execution_count": null,
   "metadata": {
    "collapsed": true
   },
   "outputs": [],
   "source": []
  }
 ],
 "metadata": {
  "kernelspec": {
   "display_name": "Python 3",
   "language": "python",
   "name": "python3"
  },
  "language_info": {
   "codemirror_mode": {
    "name": "ipython",
    "version": 3
   },
   "file_extension": ".py",
   "mimetype": "text/x-python",
   "name": "python",
   "nbconvert_exporter": "python",
   "pygments_lexer": "ipython3",
   "version": "3.5.1"
  }
 },
 "nbformat": 4,
 "nbformat_minor": 0
}
