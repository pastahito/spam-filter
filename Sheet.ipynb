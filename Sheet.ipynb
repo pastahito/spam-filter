{
 "cells": [
  {
   "cell_type": "markdown",
   "metadata": {},
   "source": [
    "# Filtro de spam"
   ]
  },
  {
   "cell_type": "markdown",
   "metadata": {},
   "source": [
    "\n",
    "#### [Entrenamiento:](#Entrenamiento)\n",
    "- def que separe una línea en palabras y las agregue a un conjunto dado por parámetro\n",
    "- def de un generator que devuelva un set de palabras por cada correo de un mbox dado por parámetro\n",
    "- def que devuelve Dict de la forma {'w' : n } con w = palabra y n = Hw para 'ham.mbox' o n = Sw para 'spam.box'\n",
    "\n",
    "#### [Clasificación:](#Clasificación)\n",
    "- def que devuelva P(y|xw) para cada palabra w de un conjunto de palabras, uno por cada correo de 'news.box'\n",
    "- def que devuelva lista de 15 palabras de mejor clasificación individual de un correo nuevo\n",
    "- def que devuelva P(y|x1, . . . , x15) de la lista anterior\n",
    "- def que devuelva lista de 0 o 1 por cada correo de 'news.mbox' en el mismo orden\n",
    "\n",
    "#### [Incorporación:](#Incorporación)\n",
    "- def que devuelva un set de palabras de un 'new-spam.mbox' o 'new-ham.mbox' que contiene un solo mensaje\n",
    "- def que combine el anterior conjunto al dict de entrenamiento aumentando en 1 cada valor\n",
    "- def que escriba el nuevo correo 'new-spam.mbox' o 'new-ham.mbox' en el fichero que corresponda\n",
    "\n",
    "#### [Uso:](#Uso)\n",
    "- Ejemplo de uso de los 3 procedimientos anteriores"
   ]
  },
  {
   "cell_type": "markdown",
   "metadata": {},
   "source": [
    "# Entrenamiento"
   ]
  },
  {
   "cell_type": "code",
   "execution_count": 10,
   "metadata": {
    "collapsed": true
   },
   "outputs": [],
   "source": [
    "import re\n",
    "\n",
    "\n",
    "# Separa al string 'line' según el regex delimiter\n",
    "# Y añade los trozos al set 'words' pasado por parámetro\n",
    "def process_line(line, words, delimiter = '[,. ()]|\\n|\\t'):\n",
    "    for word in re.split(delimiter, line):\n",
    "        words.add(word)\n",
    "\n",
    "\n",
    "# Devuelve un set de palabras diferentes de un solo correo\n",
    "def words_per_mail(mbox):    \n",
    "    with open(mbox) as fp:\n",
    "        lines = iter(fp.readlines())\n",
    "        while True:\n",
    "            words = set()\n",
    "            for subject in lines:\n",
    "                if subject.startswith(\"Subject: \"):\n",
    "                    break\n",
    "            else:\n",
    "                break\n",
    "\n",
    "            process_line(subject[9:], words)\n",
    "\n",
    "            for status in lines:\n",
    "                if status == \"X-KMail-MDN-Sent:  \\n\":\n",
    "                    break\n",
    "\n",
    "            intro = fromOne = False\n",
    "            for line in lines:\n",
    "                if line == '\\n' :\n",
    "                    intro = True\n",
    "                    continue\n",
    "                elif line.startswith('From: ') and fromOne :\n",
    "                    break\n",
    "                elif line.startswith('From ') and intro :\n",
    "                    fromOne = True\n",
    "                else:\n",
    "                    intro = False\n",
    "                    process_line(line, words)\n",
    "\n",
    "            words.remove('')\n",
    "            yield words\n",
    "\n",
    "\n",
    "# Agrega words a dictionary, incrementando la ocurrencia en 1\n",
    "def merge_to_dict(words, dictionary):\n",
    "    for w in words:\n",
    "        dictionary[w] = dictionary[w] + 1 if w in dictionary else 1\n",
    "\n",
    "\n",
    "# Devuelve dict de palabras no repetidas y el número de correos\n",
    "# en los que aparecen, del mbox dado por parámetro\n",
    "def training_dict(mbox):\n",
    "    dictionary = {}\n",
    "    n = 0\n",
    "    for words in words_per_mail(mbox):\n",
    "        merge_to_dict(words, dictionary)\n",
    "        n += 1\n",
    "    return dictionary, n\n",
    "\n"
   ]
  },
  {
   "cell_type": "code",
   "execution_count": 11,
   "metadata": {
    "collapsed": true
   },
   "outputs": [],
   "source": [
    "# Devuelve dict de la forma {'word' : Sw }\n",
    "# y el número de correos para spambox\n",
    "# y otro dict de la forma {'word' : Hw }\n",
    "# y el número de correos para hambox\n",
    "def training(spambox, hambox):\n",
    "    spam_dict, S = training_dict(spambox)\n",
    "    ham_dict, H = training_dict(hambox)\n",
    "    return spam_dict, S, ham_dict, H\n"
   ]
  },
  {
   "cell_type": "code",
   "execution_count": null,
   "metadata": {
    "collapsed": false
   },
   "outputs": [],
   "source": []
  },
  {
   "cell_type": "code",
   "execution_count": null,
   "metadata": {
    "collapsed": false
   },
   "outputs": [],
   "source": []
  },
  {
   "cell_type": "markdown",
   "metadata": {},
   "source": [
    "# Clasificación"
   ]
  },
  {
   "cell_type": "code",
   "execution_count": 12,
   "metadata": {
    "collapsed": false
   },
   "outputs": [],
   "source": [
    "# Devuelve generator que recorre las palabras de cada correo de newsbox\n",
    "# Devuelve un set por cada llamada, que corresponde al siguiente correo\n",
    "def news_words_generator(newsbox = './news.mbox'):\n",
    "    return words_per_mail(newsbox)\n",
    "\n",
    "#Devuelve P(y|xw) por cada palabra en un correo\n",
    "def probPerWord(words):\n",
    "    #S = número de correos spam\n",
    "    #H = número de correos ham\n",
    "    #spam_dict = dict de la forma {'word' : Sw }\n",
    "    #ham_dict = dict de la forma {'word' : Hw }\n",
    "    spam_dict, S, ham_dict, H = training('./spam.mbox', './ham.mbox')\n",
    "    Py = S/(S + H)\n",
    "    \n",
    "    Pxwy = []\n",
    "    Pw = []\n",
    "    Pyxw = []\n",
    "    Pxwnoy = []\n",
    "    for word in words:\n",
    "        if word in spam_dict.keys():\n",
    "            Sw = spam_dict[word] #número de correos Spam donde aparece esa palabra\n",
    "        else:\n",
    "            Sw = 0\n",
    "        Pxwy.append(Sw/S)\n",
    "        if word in ham_dict.keys():\n",
    "            Hw = ham_dict[word] # número de correos no Spam donde aparece esa palabra\n",
    "        else:\n",
    "            Hw = 0\n",
    "        Pxwnoy.append(Hw/H)\n",
    "        if Sw==0 or Hw==0:\n",
    "            Pw.append(0.5)\n",
    "        else:\n",
    "            Pw.append((Sw+Hw)/(S+H))\n",
    "    #Calculamos P(y|xw) con: P(xw|y)*P(y)/P(xw)\n",
    "    counter2 = 0\n",
    "    for value in Pxwy:\n",
    "        Pyxw.append(value*Py/Pw[counter2])\n",
    "        counter2+=1\n",
    "    return Pyxw\n",
    "                \n",
    "                "
   ]
  },
  {
   "cell_type": "code",
   "execution_count": 45,
   "metadata": {
    "collapsed": false
   },
   "outputs": [],
   "source": [
    "from collections import namedtuple\n",
    "\n",
    "Pair = namedtuple(\"Pair\", [\"value\", \"position\"])\n",
    "\n",
    "#Devuelve una lista de 15 palabras de mejor clasificación individual de un correo\n",
    "def bestQualificationWords(words):\n",
    "    probabilidades = probPerWord(words)\n",
    "    wordsList = list(words)\n",
    "    diffZeroOne = []\n",
    "    bestFifteen = []\n",
    "    result = []\n",
    "    #Calculamos la diferencia entre las probabilidades y 0 ó 1 (dependiendo de su valor), para ver cuáles son\n",
    "    #los más próximos a éstos y escoger los 15 mejores\n",
    "    counter = 0\n",
    "    for prob in probabilidades: \n",
    "        if prob <= 0.5:\n",
    "            diffZeroOne.append(Pair(abs(prob), counter))\n",
    "        elif prob > 0.5:\n",
    "            diffZeroOne.append(Pair(abs(1-prob), counter))\n",
    "        counter+=1\n",
    "    #Ordenamos de menor a mayor\n",
    "    diffSorted = sorted(diffZeroOne)\n",
    "    #Seleccionamos los 15 primeros (los de menor diferencia con 0 ó 1)\n",
    "    i = 0\n",
    "    while i<15:\n",
    "        if (i < len(diffSorted)):\n",
    "            bestFifteen.append(Pair(diffSorted[i].value, diffSorted[i].position))\n",
    "            i+=1\n",
    "    #Por último, devolvemos las palabras que se corresponden a esos resultados\n",
    "    for best in bestFifteen:\n",
    "        result.append(wordsList[best.position])\n",
    "    #También devolvemos Pxwy y Pxwnoy de estas 15 palabras para usarlos después\n",
    "    Pxwy = []\n",
    "    Pxwnoy = []\n",
    "    for w in result:\n",
    "        if w in spam_dict.keys():\n",
    "            Sw = spam_dict[w] #número de correos Spam donde aparece esa palabra\n",
    "        else:\n",
    "            Sw = 0\n",
    "        Pxwy.append(Sw/S)\n",
    "        if w in ham_dict.keys():\n",
    "            Hw = ham_dict[w] # número de correos no Spam donde aparece esa palabra\n",
    "        else:\n",
    "            Hw = 0\n",
    "        Pxwnoy.append(Hw/H)\n",
    "    print(Pxwy, Pxwnoy)\n",
    "    return Pxwy, Pxwnoy"
   ]
  },
  {
   "cell_type": "code",
   "execution_count": 37,
   "metadata": {
    "collapsed": true
   },
   "outputs": [],
   "source": [
    "#Devuelve P(y|x1,...,x15)\n",
    "def probOfBeingSpam(Pxwy, Pxwnoy):\n",
    "    spam_dict, S, ham_dict, H = training('./spam.mbox', './ham.mbox')\n",
    "    Si = 1\n",
    "    Hi = 1\n",
    "    Py = S/(S + H)\n",
    "    Pnoy = H/(S + H)\n",
    "    var1 = 1\n",
    "    for num in Pxwy:\n",
    "        var1 = var1*Py*num\n",
    "    var2 = 1\n",
    "    for num2 in Pxwnoy:\n",
    "        var2 = var2*Pnoy*num2\n",
    "    Pyxn = var1/(var1 + var2)\n",
    "    return Pyxn\n",
    "    "
   ]
  },
  {
   "cell_type": "code",
   "execution_count": 40,
   "metadata": {
    "collapsed": true
   },
   "outputs": [],
   "source": [
    "# Función que recibe un mbox de correos nuevos\n",
    "# y que devuelva una lista de 0 o 1 para cada correo nuevo \n",
    "def clasification(newsbox):\n",
    "    wordsPerMail = words_per_mail(newsbox)\n",
    "    clas = []\n",
    "    for mailWords in wordsPerMail:\n",
    "        Pxwy, Pxwnoy = bestQualificationWords(mailWords)\n",
    "        probs = probOfBeingSpam(Pxwy, Pxwnoy)\n",
    "        if probs > 0.9:\n",
    "            clas.append(1)\n",
    "            print(\"hola\")\n",
    "        else:\n",
    "            clas.append(0)\n",
    "            print(\"hola2\")\n",
    "    return clas\n",
    "    "
   ]
  },
  {
   "cell_type": "markdown",
   "metadata": {},
   "source": [
    "# Incorporación"
   ]
  },
  {
   "cell_type": "code",
   "execution_count": 16,
   "metadata": {
    "collapsed": false
   },
   "outputs": [],
   "source": [
    "# Escribe el nuevo correo ubicado en la ruta 'new'\n",
    "# en el fichero de ruta 'box'\n",
    "def append_new_to_mbox(new, mbox):\n",
    "    with open(mbox, 'a') as writable:\n",
    "        with open(new) as readable:\n",
    "            writable.write(readable.read())\n",
    "\n",
    "\n",
    "# Actualiza dictionary a partir del set de palabras\n",
    "# del único mensaje contenido en 'new_box'\n",
    "def update_dict(new_box, dictionary):\n",
    "    new_words = next(words_per_mail(new_box))\n",
    "    merge_to_dict(new_words, dictionary)\n"
   ]
  },
  {
   "cell_type": "code",
   "execution_count": 17,
   "metadata": {
    "collapsed": true
   },
   "outputs": [],
   "source": [
    "# Actualiza dictionary y escribe el contenido de new_box en mbox\n",
    "def incorporation(dictionary, new_box, mbox):\n",
    "    update_dict(new_box, dictionary)\n",
    "    append_new_to_mbox(new_box, mbox)\n"
   ]
  },
  {
   "cell_type": "markdown",
   "metadata": {},
   "source": [
    "# Uso"
   ]
  },
  {
   "cell_type": "code",
   "execution_count": 46,
   "metadata": {
    "collapsed": false
   },
   "outputs": [
    {
     "name": "stdout",
     "output_type": "stream",
     "text": [
      "[0.0, 0.375, 0.0, 0.3333333333333333, 0.6, 0.5, 0.0, 0.6781609195402298, 0.0, 0.027586206896551724, 0.23076923076923078, 0.027586206896551724, 0.6666666666666666, 0.013793103448275862, 0.75]\n",
      "[0.08333333333333333, 0.047619047619047616, 0.011904761904761904, 0.03571428571428571, 0.03571428571428571, 0.023809523809523808, 0.023809523809523808, 0.023809523809523808, 0.023809523809523808, 0.047619047619047616, 0.023809523809523808, 0.15476190476190477, 0.14285714285714285, 0.27380952380952384, 0.17857142857142858] [0.01639344262295082, 0.01639344262295082, 0.04918032786885246, 0.01639344262295082, 0.13114754098360656, 0.01639344262295082, 0.01639344262295082, 0.01639344262295082, 0.01639344262295082, 0.03278688524590164, 0.01639344262295082, 0.11475409836065574, 0.11475409836065574, 0.5737704918032787, 0.16393442622950818]\n",
      "['$0', 'quick', 'performance', 'experts', 'last', 'effects', 'Sex', 'because:', 'erection', 'better', 'Need', 'take', 'than', 'at', 'no'] [0.08333333333333333, 0.047619047619047616, 0.011904761904761904, 0.03571428571428571, 0.03571428571428571, 0.023809523809523808, 0.023809523809523808, 0.023809523809523808, 0.023809523809523808, 0.047619047619047616, 0.023809523809523808, 0.15476190476190477, 0.14285714285714285, 0.27380952380952384, 0.17857142857142858] [0.01639344262295082, 0.01639344262295082, 0.04918032786885246, 0.01639344262295082, 0.13114754098360656, 0.01639344262295082, 0.01639344262295082, 0.01639344262295082, 0.01639344262295082, 0.03278688524590164, 0.01639344262295082, 0.11475409836065574, 0.11475409836065574, 0.5737704918032787, 0.16393442622950818]\n",
      "0.9995260360947696\n",
      "[0.0, 0.0, 0.0, 0.0, 0.011904761904761904, 0.023809523809523808, 0.023809523809523808, 0.03571428571428571, 0.21428571428571427, 0.7023809523809523, 0.023809523809523808, 0.023809523809523808, 0.03571428571428571, 0.03571428571428571, 0.09523809523809523] [0.0, 0.0, 0.0, 0.0, 0.0, 0.0, 0.0, 0.16393442622950818, 0.09836065573770492, 0.45901639344262296, 0.06557377049180328, 0.01639344262295082, 0.08196721311475409, 0.03278688524590164, 0.13114754098360656]\n"
     ]
    },
    {
     "ename": "ZeroDivisionError",
     "evalue": "float division by zero",
     "output_type": "error",
     "traceback": [
      "\u001b[1;31m---------------------------------------------------------------------------\u001b[0m",
      "\u001b[1;31mZeroDivisionError\u001b[0m                         Traceback (most recent call last)",
      "\u001b[1;32m<ipython-input-46-8ac00c896ecd>\u001b[0m in \u001b[0;36m<module>\u001b[1;34m()\u001b[0m\n\u001b[0;32m     18\u001b[0m \u001b[0mprint\u001b[0m\u001b[1;33m(\u001b[0m\u001b[0mprobOfBeingSpam\u001b[0m\u001b[1;33m(\u001b[0m\u001b[0mPxwy\u001b[0m\u001b[1;33m,\u001b[0m \u001b[0mPxwnoy\u001b[0m\u001b[1;33m)\u001b[0m\u001b[1;33m)\u001b[0m\u001b[1;33m\u001b[0m\u001b[0m\n\u001b[0;32m     19\u001b[0m   \u001b[1;31m#clasification\u001b[0m\u001b[1;33m\u001b[0m\u001b[1;33m\u001b[0m\u001b[0m\n\u001b[1;32m---> 20\u001b[1;33m \u001b[0mcla\u001b[0m \u001b[1;33m=\u001b[0m  \u001b[0mclasification\u001b[0m\u001b[1;33m(\u001b[0m\u001b[1;34m'./news.mbox'\u001b[0m\u001b[1;33m)\u001b[0m\u001b[1;33m\u001b[0m\u001b[0m\n\u001b[0m\u001b[0;32m     21\u001b[0m \u001b[1;33m\u001b[0m\u001b[0m\n\u001b[0;32m     22\u001b[0m \u001b[1;31m# Incorporación a spam.box\u001b[0m\u001b[1;33m\u001b[0m\u001b[1;33m\u001b[0m\u001b[0m\n",
      "\u001b[1;32m<ipython-input-40-ff914f5adc20>\u001b[0m in \u001b[0;36mclasification\u001b[1;34m(newsbox)\u001b[0m\n\u001b[0;32m      6\u001b[0m     \u001b[1;32mfor\u001b[0m \u001b[0mmailWords\u001b[0m \u001b[1;32min\u001b[0m \u001b[0mwordsPerMail\u001b[0m\u001b[1;33m:\u001b[0m\u001b[1;33m\u001b[0m\u001b[0m\n\u001b[0;32m      7\u001b[0m         \u001b[0mPxwy\u001b[0m\u001b[1;33m,\u001b[0m \u001b[0mPxwnoy\u001b[0m \u001b[1;33m=\u001b[0m \u001b[0mbestQualificationWords\u001b[0m\u001b[1;33m(\u001b[0m\u001b[0mmailWords\u001b[0m\u001b[1;33m)\u001b[0m\u001b[1;33m\u001b[0m\u001b[0m\n\u001b[1;32m----> 8\u001b[1;33m         \u001b[0mprobs\u001b[0m \u001b[1;33m=\u001b[0m \u001b[0mprobOfBeingSpam\u001b[0m\u001b[1;33m(\u001b[0m\u001b[0mPxwy\u001b[0m\u001b[1;33m,\u001b[0m \u001b[0mPxwnoy\u001b[0m\u001b[1;33m)\u001b[0m\u001b[1;33m\u001b[0m\u001b[0m\n\u001b[0m\u001b[0;32m      9\u001b[0m         \u001b[1;32mif\u001b[0m \u001b[0mprobs\u001b[0m \u001b[1;33m>\u001b[0m \u001b[1;36m0.9\u001b[0m\u001b[1;33m:\u001b[0m\u001b[1;33m\u001b[0m\u001b[0m\n\u001b[0;32m     10\u001b[0m             \u001b[0mclas\u001b[0m\u001b[1;33m.\u001b[0m\u001b[0mappend\u001b[0m\u001b[1;33m(\u001b[0m\u001b[1;36m1\u001b[0m\u001b[1;33m)\u001b[0m\u001b[1;33m\u001b[0m\u001b[0m\n",
      "\u001b[1;32m<ipython-input-37-fd810f13c679>\u001b[0m in \u001b[0;36mprobOfBeingSpam\u001b[1;34m(Pxwy, Pxwnoy)\u001b[0m\n\u001b[0;32m     12\u001b[0m     \u001b[1;32mfor\u001b[0m \u001b[0mnum2\u001b[0m \u001b[1;32min\u001b[0m \u001b[0mPxwnoy\u001b[0m\u001b[1;33m:\u001b[0m\u001b[1;33m\u001b[0m\u001b[0m\n\u001b[0;32m     13\u001b[0m         \u001b[0mvar2\u001b[0m \u001b[1;33m=\u001b[0m \u001b[0mvar2\u001b[0m\u001b[1;33m*\u001b[0m\u001b[0mPnoy\u001b[0m\u001b[1;33m*\u001b[0m\u001b[0mnum2\u001b[0m\u001b[1;33m\u001b[0m\u001b[0m\n\u001b[1;32m---> 14\u001b[1;33m     \u001b[0mPyxn\u001b[0m \u001b[1;33m=\u001b[0m \u001b[0mvar1\u001b[0m\u001b[1;33m/\u001b[0m\u001b[1;33m(\u001b[0m\u001b[0mvar1\u001b[0m \u001b[1;33m+\u001b[0m \u001b[0mvar2\u001b[0m\u001b[1;33m)\u001b[0m\u001b[1;33m\u001b[0m\u001b[0m\n\u001b[0m\u001b[0;32m     15\u001b[0m     \u001b[1;32mreturn\u001b[0m \u001b[0mPyxn\u001b[0m\u001b[1;33m\u001b[0m\u001b[0m\n\u001b[0;32m     16\u001b[0m \u001b[1;33m\u001b[0m\u001b[0m\n",
      "\u001b[1;31mZeroDivisionError\u001b[0m: float division by zero"
     ]
    }
   ],
   "source": [
    "# Archivos\n",
    "newspam = './new-spam.mbox'\n",
    "newham = './new-ham.mbox'\n",
    "spambox = './spam.mbox'\n",
    "hambox = './ham.mbox'\n",
    "\n",
    "# Entrenamiento\n",
    "spam_dict, S, ham_dict, H = training(spambox, hambox)\n",
    "\n",
    "# Clasificación\n",
    "  #probPerWord\n",
    "wordsPerMail = words_per_mail('./news.mbox')\n",
    "print(probPerWord(next(wordsPerMail)))\n",
    "  #bestQualificationWords\n",
    "Pxwy, Pxwnoy = bestQualificationWords(next(wordsPerMail))\n",
    "print(best, Pxwy, Pxwnoy)\n",
    "  #probOfBeingSpam\n",
    "print(probOfBeingSpam(Pxwy, Pxwnoy))  \n",
    "  #clasification\n",
    "cla =  clasification('./news.mbox')\n",
    "\n",
    "# Incorporación a spam.box\n",
    "incorporation(spam_dict, newspam, spambox)\n",
    "\n",
    "# Incorporación a ham.box\n",
    "incorporation(ham_dict, newham, hambox)"
   ]
  },
  {
   "cell_type": "code",
   "execution_count": null,
   "metadata": {
    "collapsed": true
   },
   "outputs": [],
   "source": []
  }
 ],
 "metadata": {
  "kernelspec": {
   "display_name": "Python 3",
   "language": "python",
   "name": "python3"
  },
  "language_info": {
   "codemirror_mode": {
    "name": "ipython",
    "version": 3
   },
   "file_extension": ".py",
   "mimetype": "text/x-python",
   "name": "python",
   "nbconvert_exporter": "python",
   "pygments_lexer": "ipython3",
   "version": "3.5.1"
  }
 },
 "nbformat": 4,
 "nbformat_minor": 0
}
