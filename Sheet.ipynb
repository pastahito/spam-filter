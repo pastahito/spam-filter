{
 "cells": [
  {
   "cell_type": "markdown",
   "metadata": {},
   "source": [
    "# Filtro de spam"
   ]
  },
  {
   "cell_type": "markdown",
   "metadata": {},
   "source": [
    "\n",
    "#### [Entrenamiento:](#Entrenamiento)\n",
    "- def que separe una línea en palabras y las agregue a un conjunto dado por parámetro\n",
    "- def de un generator que devuelva un set de palabras por cada correo de un mbox dado por parámetro\n",
    "- def que devuelve Dict de la forma {'w' : n } con w = palabra y n = Hw para 'ham.mbox' o n = Sw para 'spam.box'\n",
    "\n",
    "#### [Clasificación:](#Clasificación)\n",
    "- def que devuelva P(y|xw) para cada palabra w de un conjunto de palabras, uno por cada correo de 'news.box'\n",
    "- def que devuelva lista de 15 palabras de mejor clasificación individual de un correo nuevo\n",
    "- def que devuelva P(y|x1, . . . , x15) de la lista anterior\n",
    "- def que devuelva lista de 0 o 1 por cada correo de 'news.mbox' en el mismo orden\n",
    "\n",
    "#### [Incorporación:](#Incorporación)\n",
    "- def que devuelva un set de palabras de un 'new-spam.mbox' o 'new-ham.mbox' que contiene un solo mensaje\n",
    "- def que combine el anterior conjunto al dict de entrenamiento aumentando en 1 cada valor\n",
    "- def que escriba el nuevo correo 'new-spam.mbox' o 'new-ham.mbox' en el fichero que corresponda\n",
    "\n",
    "#### [Uso:](#Uso)\n",
    "- Ejemplo de uso de los 3 procedimientos anteriores"
   ]
  },
  {
   "cell_type": "markdown",
   "metadata": {},
   "source": [
    "# Entrenamiento"
   ]
  },
  {
   "cell_type": "code",
   "execution_count": 10,
   "metadata": {
    "collapsed": true
   },
   "outputs": [],
   "source": [
    "import re\n",
    "\n",
    "\n",
    "# Separa al string 'line' según el regex delimiter\n",
    "# Y añade los trozos al set 'words' pasado por parámetro\n",
    "def process_line(line, words, delimiter = '[,. ()]|\\n|\\t'):\n",
    "    for word in re.split(delimiter, line):\n",
    "        words.add(word)\n",
    "\n",
    "\n",
    "# Devuelve un set de palabras diferentes de un solo correo\n",
    "def words_per_mail(mbox):    \n",
    "    with open(mbox) as fp:\n",
    "        lines = iter(fp.readlines())\n",
    "        while True:\n",
    "            words = set()\n",
    "            for subject in lines:\n",
    "                if subject.startswith(\"Subject: \"):\n",
    "                    break\n",
    "            else:\n",
    "                break\n",
    "\n",
    "            process_line(subject[9:], words)\n",
    "\n",
    "            for status in lines:\n",
    "                if status == \"X-KMail-MDN-Sent:  \\n\":\n",
    "                    break\n",
    "\n",
    "            intro = fromOne = False\n",
    "            for line in lines:\n",
    "                if line == '\\n' :\n",
    "                    intro = True\n",
    "                    continue\n",
    "                elif line.startswith('From: ') and fromOne :\n",
    "                    break\n",
    "                elif line.startswith('From ') and intro :\n",
    "                    fromOne = True\n",
    "                else:\n",
    "                    intro = False\n",
    "                    process_line(line, words)\n",
    "\n",
    "            words.remove('')\n",
    "            yield words\n",
    "\n",
    "\n",
    "# Agrega words a dictionary, incrementando la ocurrencia en 1\n",
    "def merge_to_dict(words, dictionary):\n",
    "    for w in words:\n",
    "        dictionary[w] = dictionary[w] + 1 if w in dictionary else 1\n",
    "\n",
    "\n",
    "# Devuelve dict de palabras no repetidas y el número de correos\n",
    "# en los que aparecen, del mbox dado por parámetro\n",
    "def training_dict(mbox):\n",
    "    dictionary = {}\n",
    "    for words in words_per_mail(mbox):\n",
    "        merge_to_dict(words, dictionary)\n",
    "    return dictionary\n"
   ]
  },
  {
   "cell_type": "code",
   "execution_count": 11,
   "metadata": {
    "collapsed": true
   },
   "outputs": [],
   "source": [
    "# Devuelve dict de la forma {'word' : Sw } para spambox\n",
    "# y otro dict de la forma {'word' : Hw } para hambox\n",
    "def training(spambox, hambox):\n",
    "    return training_dict(spambox), training_dict(hambox)\n"
   ]
  },
  {
   "cell_type": "markdown",
   "metadata": {},
   "source": [
    "# Clasificación"
   ]
  },
  {
   "cell_type": "code",
   "execution_count": 61,
   "metadata": {
    "collapsed": false
   },
   "outputs": [],
   "source": [
    "# Devuelve generator que recorre las palabras de cada correo de newsbox\n",
    "# Devuelve un set por cada llamada, que corresponde al siguiente correo\n",
    "def news_words_generator(newsbox = './news.mbox'):\n",
    "    return words_per_mail(newsbox)\n",
    "\n",
    "import mailbox\n",
    "\n",
    "#Devuelve el número de mensajes que tiene una carpeta\n",
    "def messagesPerFolder(mbox):\n",
    "    i = 0\n",
    "    for message in mbox:\n",
    "        i+=1\n",
    "    return i\n",
    "\n",
    "#Devuelve el número de correos de una carpeta en los que aparece una palabra \n",
    "def numberMailsItAppears(word, mbox):\n",
    "    count = 0\n",
    "    wordsPerFolder = words_per_mail(mbox)\n",
    "    for wordsPerMail in wordsPerFolder:\n",
    "        for words in wordsPerMail:\n",
    "            if word in words:\n",
    "                count+=1\n",
    "                break\n",
    "    return count\n",
    "\n",
    "#Devuelve P(y|xw) por cada palabra en un correo\n",
    "def probPerWord(words):\n",
    "    spambox = mailbox.mbox('spam.mbox')\n",
    "    hambox = mailbox.mbox('ham.mbox')\n",
    "    S = messagesPerFolder(spambox) #número de correos Spam\n",
    "    H = messagesPerFolder(hambox) #número de correos no Spam\n",
    "    Py = S/(S + H)\n",
    "    \n",
    "    Pxwy = []\n",
    "    Pw = []\n",
    "    Pyxw = []\n",
    "    for word in words:\n",
    "        Sw =  numberMailsItAppears(word, './spam.mbox') #número de correos Spam donde aparece esa palabra\n",
    "        Pxwy.append(Sw/S)\n",
    "        Hw = numberMailsItAppears(word, './ham.mbox') # número de correos no Spam donde aparece esa palabra\n",
    "        if Sw==0 or Hw==0:\n",
    "            Pw.append(0.5)\n",
    "        else:\n",
    "            Pw.append((Sw+Hw)/(S+H))\n",
    "    #Calculamos P(y|xw) con la regla de Bayes: P(A|B) = P(B|A)*P(A)/P(B)\n",
    "    counter2 = 0\n",
    "    for value in Pxwy:\n",
    "        Pyxw.append(value*Py/Pw[counter2])\n",
    "        counter2+=1\n",
    "    return Pyxw\n",
    "                \n",
    "                "
   ]
  },
  {
   "cell_type": "code",
   "execution_count": null,
   "metadata": {
    "collapsed": false
   },
   "outputs": [],
   "source": []
  },
  {
   "cell_type": "markdown",
   "metadata": {},
   "source": [
    "# Incorporación"
   ]
  },
  {
   "cell_type": "code",
   "execution_count": 13,
   "metadata": {
    "collapsed": false
   },
   "outputs": [],
   "source": [
    "# Escribe el nuevo correo ubicado en la ruta 'new'\n",
    "# en el fichero de ruta 'box'\n",
    "def append_new_to_mbox(new, mbox):\n",
    "    with open(mbox, 'a') as writable:\n",
    "        with open(new) as readable:\n",
    "            writable.write(readable.read())\n",
    "\n",
    "\n",
    "# Actualiza dictionary a partir del set de palabras\n",
    "# del único mensaje contenido en 'new_box'\n",
    "def update_dict(new_box, dictionary):\n",
    "    new_words = next(words_per_mail(new_box))\n",
    "    merge_to_dict(new_words, dictionary)\n"
   ]
  },
  {
   "cell_type": "code",
   "execution_count": 14,
   "metadata": {
    "collapsed": true
   },
   "outputs": [],
   "source": [
    "# Actualiza dictionary y escribe el contenido de new_box en mbox\n",
    "def incorporation(dictionary, new_box, mbox):\n",
    "    update_dict(new_box, dictionary)\n",
    "    append_new_to_mbox(new_box, mbox)\n"
   ]
  },
  {
   "cell_type": "markdown",
   "metadata": {},
   "source": [
    "# Uso"
   ]
  },
  {
   "cell_type": "code",
   "execution_count": 62,
   "metadata": {
    "collapsed": false
   },
   "outputs": [
    {
     "name": "stdout",
     "output_type": "stream",
     "text": [
      "[0.33333333333333337, 0.4736842105263158, 0.16666666666666669, 0.16666666666666669, 0.5000000000000001, 0.0, 0.0, 0.5000000000000001, 0.5000000000000001, 0.5000000000000001, 0.5000000000000001, 0.6666666666666667, 0.5000000000000001, 0.5000000000000001, 0.33333333333333337, 0.5000000000000001, 0.5000000000000001, 0.5000000000000001, 0.5000000000000001]\n"
     ]
    }
   ],
   "source": [
    "# Archivos\n",
    "newspam = './new-spam.mbox'\n",
    "newham = './new-ham.mbox'\n",
    "spambox = './spam.mbox'\n",
    "hambox = './ham.mbox'\n",
    "\n",
    "# Entrenamiento\n",
    "spam_dict, ham_dict = training(spambox, hambox)\n",
    "\n",
    "# Clasificación\n",
    "import mailbox\n",
    "\n",
    "newsbox = mailbox.mbox('news.mbox')\n",
    "#Mostramos las probabilidades del primer correo\n",
    "for message in newsbox:\n",
    "    probabilidades = probPerWord(message)\n",
    "    break\n",
    "print(probabilidades)\n",
    "\n",
    "# Incorporación a spam.box\n",
    "incorporation(spam_dict, newspam, spambox)\n",
    "\n",
    "# Incorporación a ham.box\n",
    "incorporation(ham_dict, newham, hambox)"
   ]
  }
 ],
 "metadata": {
  "kernelspec": {
   "display_name": "Python 3",
   "language": "python",
   "name": "python3"
  },
  "language_info": {
   "codemirror_mode": {
    "name": "ipython",
    "version": 3
   },
   "file_extension": ".py",
   "mimetype": "text/x-python",
   "name": "python",
   "nbconvert_exporter": "python",
   "pygments_lexer": "ipython3",
   "version": "3.5.1"
  }
 },
 "nbformat": 4,
 "nbformat_minor": 0
}
