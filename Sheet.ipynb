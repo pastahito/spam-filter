{
 "cells": [
  {
   "cell_type": "markdown",
   "metadata": {},
   "source": [
    "# Filtro de spam"
   ]
  },
  {
   "cell_type": "markdown",
   "metadata": {},
   "source": [
    "#### DONE\n",
    "- Función devuelve conjunto de palabras a partir de una línea\n",
    "- Devolver conjunto de palabras diferentes del subject y body de un mail\n",
    "- Devolver generator de conjuntos de palabras a partir de un .mbox\n",
    "- Prueba para ver si me he enterado de una vez de cómo va esto.\n",
    "- Heving metal!! Yeah!!\n",
    "\n",
    "#### TODO\n",
    "- Algo más\n",
    "- Función que devuelve la proporción de ocurrencia de una palabra sobre los elementos de una de las dos listas anteriores (de spam y ham)\n",
    "- Función que devuelve clasificación \"c\" ∈ [0,1] de un correo nuevo dada una palabra (bayes)\n",
    "- Función de obtener las primeras 15 palabras de una lista de palabras ordenadas descendentemente según |c-0.5| siendo c su clasificación\n",
    "- Función que devuelve true si el valor de Naive-Bayes para las 15 palabras de un mensaje es superior a 0.9\n"
   ]
  },
  {
   "cell_type": "code",
   "execution_count": null,
   "metadata": {
    "collapsed": false
   },
   "outputs": [],
   "source": [
    "import re"
   ]
  },
  {
   "cell_type": "code",
   "execution_count": null,
   "metadata": {
    "collapsed": true
   },
   "outputs": [],
   "source": [
    "# Agrega las palabras de una linea al conjunto bunch,\n",
    "# separadas por el regex delimiter\n",
    "delimiter = '[,. ()]|\\n'\n",
    "def process_line(line, bunch):\n",
    "    for word in re.split(delimiter, line):\n",
    "        bunch.add(word)"
   ]
  },
  {
   "cell_type": "code",
   "execution_count": null,
   "metadata": {
    "collapsed": true
   },
   "outputs": [],
   "source": [
    "# Devuelve un conjunto de palabras de un solo correo\n",
    "def single_mail_words(lines):\n",
    "    while True:\n",
    "        bunch = set()\n",
    "        for subject in lines:\n",
    "            if subject.startswith(\"Subject: \"):\n",
    "                break\n",
    "        else:\n",
    "            break\n",
    "        \n",
    "        process_line(subject[9:], bunch)\n",
    "\n",
    "        for status in lines:\n",
    "            if status == \"X-KMail-MDN-Sent:  \\n\":\n",
    "                break\n",
    "\n",
    "        intro = fromOne = False\n",
    "        for line in lines:\n",
    "            if line == '\\n' :\n",
    "                intro = True\n",
    "                continue\n",
    "            elif line.startswith('From: ') and fromOne :\n",
    "                break\n",
    "            elif line.startswith('From ') and intro :\n",
    "                fromOne = True\n",
    "            else:\n",
    "                intro = False\n",
    "                process_line(line, bunch)\n",
    "                \n",
    "        bunch.remove('')\n",
    "        yield bunch"
   ]
  },
  {
   "cell_type": "code",
   "execution_count": null,
   "metadata": {
    "collapsed": false
   },
   "outputs": [],
   "source": [
    "# Devuelve generator que recorre los mails de un archivo,\n",
    "# devolviendo mailwords() de cada mail\n",
    "def each_mail_words(file):\n",
    "    with open(file) as fp:\n",
    "        lines = iter(fp.readlines())\n",
    "        for msg in single_mail_words(lines):\n",
    "            yield msg"
   ]
  },
  {
   "cell_type": "code",
   "execution_count": null,
   "metadata": {
    "collapsed": false
   },
   "outputs": [],
   "source": [
    "# Testing\n",
    "spambox = './spam.mbox'\n",
    "hambox = './ham.mbox'\n",
    "newsbox = './news.mbox'\n",
    "\n",
    "#Descomentar alguno para probar\n",
    "#for words in each_mail_words(spambox):\n",
    "#    print(words)\n",
    "#for words in each_mail_words(hambox):\n",
    "#    print(words)\n",
    "#for words in each_mail_words(newsbox):\n",
    "#    print(words)\n"
   ]
  }
 ],
 "metadata": {
  "kernelspec": {
   "display_name": "Python 3",
   "language": "python",
   "name": "python3"
  },
  "language_info": {
   "codemirror_mode": {
    "name": "ipython",
    "version": 3
   },
   "file_extension": ".py",
   "mimetype": "text/x-python",
   "name": "python",
   "nbconvert_exporter": "python",
   "pygments_lexer": "ipython3",
   "version": "3.5.1"
  }
 },
 "nbformat": 4,
 "nbformat_minor": 0
}
