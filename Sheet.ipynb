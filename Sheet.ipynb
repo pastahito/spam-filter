{
 "cells": [
  {
   "cell_type": "markdown",
   "metadata": {},
   "source": [
    "# Filtro de spam"
   ]
  },
  {
   "cell_type": "markdown",
   "metadata": {},
   "source": [
    "\n",
    "#### [Entrenamiento:](#Entrenamiento)\n",
    "- def que separe una línea en palabras y las agregue a un conjunto dado por parámetro\n",
    "- def de un generator que devuelva un set de palabras por cada correo de un mbox dado por parámetro\n",
    "- def que devuelve Dict de la forma {'w' : n } con w = palabra y n = Hw para 'ham.mbox' o n = Sw para 'spam.box'\n",
    "\n",
    "#### [Clasificación:](#Clasificación)\n",
    "- def que devuelva P(y|xw) para cada palabra w de un conjunto de palabras, uno por cada correo de 'news.box'\n",
    "- def que devuelva lista de 15 palabras de mejor clasificación individual de un correo nuevo\n",
    "- def que devuelva P(y|x1, . . . , x15) de la lista anterior\n",
    "- def que devuelva lista de 0 o 1 por cada correo de 'news.mbox' en el mismo orden\n",
    "\n",
    "#### [Incorporación:](#Incorporación)\n",
    "- def que devuelva un set de palabras de un 'new-spam.mbox' o 'new-ham.mbox' que contiene un solo mensaje\n",
    "- def que combine el anterior conjunto al dict de entrenamiento aumentando en 1 cada valor\n",
    "- def que escriba el nuevo correo 'new-spam.mbox' o 'new-ham.mbox' en el fichero que corresponda\n",
    "\n",
    "#### [Ejemplo de uso:](#Ejemplo-de-uso-de-los-3-procedimientos)\n",
    "- Ejemplo de uso de los 3 procedimientos anteriores"
   ]
  },
  {
   "cell_type": "markdown",
   "metadata": {},
   "source": [
    "# Entrenamiento"
   ]
  },
  {
   "cell_type": "markdown",
   "metadata": {},
   "source": [
    "### Utilidad"
   ]
  },
  {
   "cell_type": "code",
   "execution_count": null,
   "metadata": {
    "collapsed": true
   },
   "outputs": [],
   "source": [
    "import re\n",
    "import mailbox\n",
    "\n",
    "\n",
    "# Recibe un string con el subject y body del un solo correo\n",
    "# Devuelve un set con las palabras de ese string (separadas según un regex)\n",
    "def separate_in_words(payload, regex):\n",
    "    words = set()\n",
    "    for w in re.split(regex, payload):\n",
    "        words.add(w)\n",
    "    words.remove('')\n",
    "    return words\n",
    "\n",
    "\n",
    "# Recibe un string con la ruta de un .mbox\n",
    "# Devuelve generator de un set de palabras por correo recorrido\n",
    "def words_per_mail(mbox, regex):    \n",
    "    for mail in mailbox.mbox(mbox):\n",
    "        payload = mail['subject'] + ' ' + mail.get_payload()\n",
    "        words = separate_in_words(payload, regex)\n",
    "        yield words\n",
    "\n",
    "\n",
    "# Recibe un set de palabras y un dict a modificar\n",
    "# Agrega words a dictionary, incrementando la ocurrencia en 1\n",
    "def merge_to_dict(words, dictionary):\n",
    "    for w in words:\n",
    "        dictionary[w] = dictionary[w] + 1 if w in dictionary else 1\n",
    "\n",
    "\n",
    "# Recibe un string con la ruta de un .mbox\n",
    "# Devuelve dict con key = <una palabra> y value = <nº de correos en los que aparece>\n",
    "def training_dict(mbox, regex):\n",
    "    dictionary = {}\n",
    "    for words in words_per_mail(mbox, regex):\n",
    "        merge_to_dict(words, dictionary)\n",
    "    return dictionary\n",
    "\n"
   ]
  },
  {
   "cell_type": "markdown",
   "metadata": {},
   "source": [
    "### Procedimiento"
   ]
  },
  {
   "cell_type": "code",
   "execution_count": null,
   "metadata": {
    "collapsed": true
   },
   "outputs": [],
   "source": [
    "# Devuelve dict de la forma {'word' : Sw }\n",
    "# y otro dict de la forma {'word' : Hw }\n",
    "def training(spambox, hambox, regex = '\\W+'):\n",
    "    spam_dict = training_dict(spambox, regex)\n",
    "    ham_dict = training_dict(hambox, regex)\n",
    "    return spam_dict, ham_dict\n",
    "\n"
   ]
  },
  {
   "cell_type": "markdown",
   "metadata": {},
   "source": [
    "# Clasificación"
   ]
  },
  {
   "cell_type": "markdown",
   "metadata": {},
   "source": [
    "### Utilidad"
   ]
  },
  {
   "cell_type": "code",
   "execution_count": null,
   "metadata": {
    "collapsed": false
   },
   "outputs": [],
   "source": [
    "# Devuelve list de N palabras con mejor clasificación\n",
    "def top_N(words, spam_dict, ham_dict, num):\n",
    "    top = []  # De la forma: [ (Pw1, w1), (Pw2, w2), (Pw3, w3), ...]\n",
    "    for w in words:\n",
    "        sw = spam_dict[w] if w in spam_dict else 0\n",
    "        hw = ham_dict[w]  if w in ham_dict  else 0\n",
    "        p  = 0 if sw == 0 and hw == 0 else abs((sw-hw)/(2*sw+2*hw))  # p∈[0, 0.5] con 0.5 ≡ mejor clasificación\n",
    "        top.append(( p, w ))    \n",
    "    # Devuelve máximo N valores\n",
    "    return [word for prob, word in sorted(top,reverse=True)][:num]\n",
    "\n",
    "\n",
    "# Naïve-Bayes de P(y|x1,...,xn)\n",
    "def naive_bayes(words):\n",
    "    sw_acum = 1\n",
    "    hw_acum = 1\n",
    "    for w in words:\n",
    "        sw = spam_dict[w] if w in spam_dict else 1\n",
    "        hw = ham_dict[w]  if w in ham_dict  else 1\n",
    "        sw_acum = sw_acum * sw\n",
    "        hw_acum = hw_acum * hw\n",
    "    return sw_acum/(sw_acum + hw_acum)\n"
   ]
  },
  {
   "cell_type": "markdown",
   "metadata": {},
   "source": [
    "### Procedimiento"
   ]
  },
  {
   "cell_type": "code",
   "execution_count": null,
   "metadata": {
    "collapsed": true
   },
   "outputs": [],
   "source": [
    "# Función que recibe un mbox de correos nuevos\n",
    "# y que devuelva una lista de 0 o 1 para cada correo nuevo \n",
    "def clasification(newsbox, spam_dict, ham_dict, regex = '\\W+', num = 15):\n",
    "    clas = []    \n",
    "    for words in words_per_mail(newsbox, regex):\n",
    "        top_N_words = top_N(words, spam_dict, ham_dict, num)\n",
    "        probability  = naive_bayes(top_N_words)\n",
    "        is_spam      = 1 if probability > 0.9 else 0\n",
    "        clas.append(is_spam)        \n",
    "    return clas\n"
   ]
  },
  {
   "cell_type": "markdown",
   "metadata": {},
   "source": [
    "# Incorporación"
   ]
  },
  {
   "cell_type": "markdown",
   "metadata": {},
   "source": [
    "### Utilidad"
   ]
  },
  {
   "cell_type": "code",
   "execution_count": null,
   "metadata": {
    "collapsed": false
   },
   "outputs": [],
   "source": [
    "# Escribe el nuevo correo ubicado en la ruta 'new'\n",
    "# en el fichero de ruta 'box'\n",
    "def append_new_to_mbox(new_mbox, mbox):\n",
    "    with open(mbox, 'a') as writable:\n",
    "        with open(new_mbox) as readable:\n",
    "            writable.write(readable.read())\n",
    "\n",
    "\n",
    "# Actualiza dictionary a partir del set de palabras\n",
    "# del único mensaje contenido en 'new_box'\n",
    "def update_dict(new_mbox, dictionary, regex):\n",
    "    for words in words_per_mail(new_mbox, regex):\n",
    "        merge_to_dict(words, dictionary)\n",
    "        \n"
   ]
  },
  {
   "cell_type": "markdown",
   "metadata": {},
   "source": [
    "### Procedimiento"
   ]
  },
  {
   "cell_type": "code",
   "execution_count": null,
   "metadata": {
    "collapsed": true
   },
   "outputs": [],
   "source": [
    "# Actualiza dictionary y escribe el contenido de new_box en mbox\n",
    "def incorporation(new_mbox, mbox, dic = None, regex = '\\W+'):\n",
    "    append_new_to_mbox(new_mbox, mbox)\n",
    "    if dic is not None:\n",
    "        update_dict(new_mbox, dic, regex)\n"
   ]
  },
  {
   "cell_type": "markdown",
   "metadata": {},
   "source": [
    "# Ejemplo de uso de los 3 procedimientos"
   ]
  },
  {
   "cell_type": "markdown",
   "metadata": {},
   "source": [
    "### Variables"
   ]
  },
  {
   "cell_type": "markdown",
   "metadata": {},
   "source": [
    "- Rutas de archivos"
   ]
  },
  {
   "cell_type": "code",
   "execution_count": null,
   "metadata": {
    "collapsed": false
   },
   "outputs": [],
   "source": [
    "hambox = './ham.mbox'\n",
    "spambox = './spam.mbox'\n",
    "newsbox = './news.mbox'\n",
    "new_hambox  = './new-ham.mbox'\n",
    "new_spambox = './new-spam.mbox'"
   ]
  },
  {
   "cell_type": "markdown",
   "metadata": {},
   "source": [
    "- Parametros opcionales de training(), clasification() e incorporation()"
   ]
  },
  {
   "cell_type": "code",
   "execution_count": null,
   "metadata": {
    "collapsed": true
   },
   "outputs": [],
   "source": [
    "# Criterio de separación alternativo\n",
    "regex = '[.@_#/]?[\\s]+|[,;:()<>*~][\\s]*'\n",
    "\n",
    "# Número de palabras alternativo para hacer Näive-Bayes\n",
    "num = 19"
   ]
  },
  {
   "cell_type": "markdown",
   "metadata": {},
   "source": [
    "### Uso de training()\n",
    "- Parámetro regex es opcional, por defecto es '\\W+', cualquier secuencia de caracteres no alfanúmericos."
   ]
  },
  {
   "cell_type": "code",
   "execution_count": null,
   "metadata": {
    "collapsed": true
   },
   "outputs": [],
   "source": [
    "# Entrenamiento\n",
    "spam_dict, ham_dict = training(spambox, hambox, regex = regex)\n",
    "\n",
    "print(len(spam_dict), len(ham_dict))"
   ]
  },
  {
   "cell_type": "markdown",
   "metadata": {},
   "source": [
    "### Uso de clasification()\n",
    "- Parámetro regex es opcional, por defecto es '\\W+', cualquier secuencia de caracteres no alfanúmericos.\n",
    "- Parámetro num es opcional, por defecto es 15.\n",
    "- Requiere que training() haya sido ejecutado antes."
   ]
  },
  {
   "cell_type": "code",
   "execution_count": null,
   "metadata": {
    "collapsed": true
   },
   "outputs": [],
   "source": [
    "# Clasificación\n",
    "res = clasification(newsbox, spam_dict, ham_dict, regex = regex, num = num)\n",
    "\n",
    "print(res)"
   ]
  },
  {
   "cell_type": "markdown",
   "metadata": {},
   "source": [
    "### Uso de incorporation()\n",
    "- Parámetro regex es opcional, por defecto es '\\W+', cualquier secuencia de caracteres no alfanúmericos.\n",
    "- La ejecución previa de training() es opcional.\n",
    "- Al usar incorporation() se actualizan, con las palabras nuevas, los dicts devueltos por training(), si existen.\n",
    "\n",
    "<p>NOTA: Modifica el contenido de los archivos spambox y hambox</p>"
   ]
  },
  {
   "cell_type": "code",
   "execution_count": null,
   "metadata": {
    "collapsed": false
   },
   "outputs": [],
   "source": [
    "# Incorporación a spam.box\n",
    "incorporation(new_spambox, spambox, dic = spam_dict, regex = regex)\n",
    "\n",
    "# Incorporación a ham.box\n",
    "incorporation(new_hambox, hambox, dic = ham_dict, regex = regex)\n",
    "\n",
    "print(len(spam_dict), len(ham_dict))"
   ]
  }
 ],
 "metadata": {
  "kernelspec": {
   "display_name": "Python 3",
   "language": "python",
   "name": "python3"
  },
  "language_info": {
   "codemirror_mode": {
    "name": "ipython",
    "version": 3
   },
   "file_extension": ".py",
   "mimetype": "text/x-python",
   "name": "python",
   "nbconvert_exporter": "python",
   "pygments_lexer": "ipython3",
   "version": "3.5.1"
  }
 },
 "nbformat": 4,
 "nbformat_minor": 0
}
