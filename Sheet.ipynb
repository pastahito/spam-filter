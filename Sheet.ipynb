{
 "cells": [
  {
   "cell_type": "markdown",
   "metadata": {},
   "source": [
    "# Filtro de spam"
   ]
  },
  {
   "cell_type": "markdown",
   "metadata": {},
   "source": [
    "\n",
    "#### [Entrenamiento:](#Entrenamiento)\n",
    "- def que separe una línea en palabras y las agregue a un conjunto dado por parámetro\n",
    "- def de un generator que devuelva un set de palabras por cada correo de un mbox dado por parámetro\n",
    "- def que devuelve Dict de la forma {'w' : n } con w = palabra y n = Hw para 'ham.mbox' o n = Sw para 'spam.box'\n",
    "\n",
    "#### [Clasificación:](#Clasificación)\n",
    "- def que devuelva P(y|xw) para cada palabra w de un conjunto de palabras, uno por cada correo de 'news.box'\n",
    "- def que devuelva lista de 15 palabras de mejor clasificación individual de un correo nuevo\n",
    "- def que devuelva P(y|x1, . . . , x15) de la lista anterior\n",
    "- def que devuelva lista de 0 o 1 por cada correo de 'news.mbox' en el mismo orden\n",
    "\n",
    "#### [Incorporación:](#Incorporación)\n",
    "- def que devuelva un set de palabras de un 'new-spam.mbox' o 'new-ham.mbox' que contiene un solo mensaje\n",
    "- def que combine el anterior conjunto al dict de entrenamiento aumentando en 1 cada valor\n",
    "- def que escriba el nuevo correo 'new-spam.mbox' o 'new-ham.mbox' en el fichero que corresponda\n",
    "\n",
    "#### [Uso:](#Uso)\n",
    "- Ejemplo de uso de los 3 procedimientos anteriores"
   ]
  },
  {
   "cell_type": "markdown",
   "metadata": {},
   "source": [
    "# Entrenamiento"
   ]
  },
  {
   "cell_type": "code",
   "execution_count": null,
   "metadata": {
    "collapsed": true
   },
   "outputs": [],
   "source": [
    "import re\n",
    "import mailbox\n",
    "\n",
    "\n",
    "# Recibe un string con el subject y body del un solo correo\n",
    "# Devuelve un set con las palabras de ese string (separadas segun un regex)\n",
    "def separate_in_words(payload):\n",
    "    words = set()\n",
    "    for w in re.split('[,. ()]|\\n|\\t', payload):\n",
    "        words.add(w)    \n",
    "    words.remove('')\n",
    "    return words\n",
    "\n",
    "\n",
    "# Recibe un string con la ruta de un .mbox\n",
    "# Devuelve generator de un set de palabras por correo recorrido\n",
    "def words_per_mail(mbox):    \n",
    "    for mail in mailbox.mbox(mbox):\n",
    "        payload = mail['subject'] + ' ' + mail.get_payload()\n",
    "        words = separate_in_words(payload)\n",
    "        yield words\n",
    "\n",
    "\n",
    "# Recibe un set de palabras y un dict a modificar\n",
    "# Agrega words a dictionary, incrementando la ocurrencia en 1\n",
    "def merge_to_dict(words, dictionary):\n",
    "    for w in words:\n",
    "        dictionary[w] = dictionary[w] + 1 if w in dictionary else 1\n",
    "\n",
    "\n",
    "# Recibe un string con la ruta de un .mbox\n",
    "# Devuelve dict con key = <una palabra> y value = <nº de correos en los que aparece>\n",
    "def training_dict(mbox):\n",
    "    dictionary = {}\n",
    "    n = 0\n",
    "    for words in words_per_mail(mbox):\n",
    "        merge_to_dict(words, dictionary)\n",
    "        n += 1\n",
    "    return dictionary, n\n",
    "\n"
   ]
  },
  {
   "cell_type": "code",
   "execution_count": null,
   "metadata": {
    "collapsed": true
   },
   "outputs": [],
   "source": [
    "# Devuelve dict de la forma {'word' : Sw } y el número de correos para spambox\n",
    "# y otro dict de la forma {'word' : Hw } y el número de correos para hambox\n",
    "def training(spambox, hambox):\n",
    "    spam_dict, S = training_dict(spambox)\n",
    "    ham_dict, H = training_dict(hambox)\n",
    "    return spam_dict, S, ham_dict, H\n"
   ]
  },
  {
   "cell_type": "markdown",
   "metadata": {},
   "source": [
    "# Clasificación"
   ]
  },
  {
   "cell_type": "code",
   "execution_count": null,
   "metadata": {
    "collapsed": false
   },
   "outputs": [],
   "source": [
    "#Devuelve P(y|xw) por cada palabra en un correo\n",
    "def probPerWord(words):\n",
    "    #S = número de correos spam\n",
    "    #H = número de correos ham\n",
    "    #spam_dict = dict de la forma {'word' : Sw }\n",
    "    #ham_dict = dict de la forma {'word' : Hw }\n",
    "    spam_dict, S, ham_dict, H = training('./spam.mbox', './ham.mbox')\n",
    "    Py = S/(S + H)\n",
    "    \n",
    "    Pxwy = []\n",
    "    Pw = []\n",
    "    Pyxw = []\n",
    "    Pxwnoy = []\n",
    "    for word in words:\n",
    "        if word in spam_dict.keys():\n",
    "            Sw = spam_dict[word] #número de correos Spam donde aparece esa palabra\n",
    "        else:\n",
    "            Sw = 0\n",
    "        Pxwy.append(Sw/S)\n",
    "        if word in ham_dict.keys():\n",
    "            Hw = ham_dict[word] # número de correos no Spam donde aparece esa palabra\n",
    "        else:\n",
    "            Hw = 0\n",
    "        Pxwnoy.append(Hw/H)\n",
    "        if Sw==0 or Hw==0:\n",
    "            Pw.append(0.5)\n",
    "        else:\n",
    "            Pw.append((Sw+Hw)/(S+H))\n",
    "    #Calculamos P(y|xw) con: P(xw|y)*P(y)/P(xw)\n",
    "    counter2 = 0\n",
    "    for value in Pxwy:\n",
    "        Pyxw.append(value*Py/Pw[counter2])\n",
    "        counter2+=1\n",
    "    return Pyxw\n",
    "           "
   ]
  },
  {
   "cell_type": "code",
   "execution_count": null,
   "metadata": {
    "collapsed": false
   },
   "outputs": [],
   "source": [
    "from collections import namedtuple\n",
    "\n",
    "Pair = namedtuple(\"Pair\", [\"value\", \"position\"])\n",
    "\n",
    "#Devuelve una lista de 15 palabras de mejor clasificación individual de un correo\n",
    "def bestQualificationWords(words):\n",
    "    probabilidades = probPerWord(words)\n",
    "    wordsList = list(words)\n",
    "    diffZeroOne = []\n",
    "    bestFifteen = []\n",
    "    result = []\n",
    "    #Calculamos la diferencia entre las probabilidades y 0 ó 1 (dependiendo de su valor), para ver cuáles son\n",
    "    #los más próximos a éstos y escoger los 15 mejores\n",
    "    counter = 0\n",
    "    for prob in probabilidades: \n",
    "        if prob <= 0.5:\n",
    "            diffZeroOne.append(Pair(abs(prob), counter))\n",
    "        elif prob > 0.5:\n",
    "            diffZeroOne.append(Pair(abs(1-prob), counter))\n",
    "        counter+=1\n",
    "    #Ordenamos de menor a mayor\n",
    "    diffSorted = sorted(diffZeroOne)\n",
    "    #Seleccionamos los 15 primeros (los de menor diferencia con 0 ó 1)\n",
    "    i = 0\n",
    "    while i<15:\n",
    "        if (i < len(diffSorted)):\n",
    "            bestFifteen.append(Pair(diffSorted[i].value, diffSorted[i].position))\n",
    "            i+=1\n",
    "    #Por último, devolvemos las palabras que se corresponden a esos resultados\n",
    "    for best in bestFifteen:\n",
    "        result.append(wordsList[best.position])\n",
    "    #También devolvemos Pxwy y Pxwnoy de estas 15 palabras para usarlos después\n",
    "    Pxwy = []\n",
    "    Pxwnoy = []\n",
    "    for w in result:\n",
    "        if w in spam_dict.keys():\n",
    "            Sw = spam_dict[w] #número de correos Spam donde aparece esa palabra\n",
    "        else:\n",
    "            Sw = 0\n",
    "        Pxwy.append(Sw/S)\n",
    "        if w in ham_dict.keys():\n",
    "            Hw = ham_dict[w] # número de correos no Spam donde aparece esa palabra\n",
    "        else:\n",
    "            Hw = 0\n",
    "        Pxwnoy.append(Hw/H)\n",
    "    print(Pxwy, Pxwnoy)\n",
    "    return Pxwy, Pxwnoy"
   ]
  },
  {
   "cell_type": "code",
   "execution_count": null,
   "metadata": {
    "collapsed": true
   },
   "outputs": [],
   "source": [
    "#Devuelve P(y|x1,...,x15)\n",
    "def probOfBeingSpam(Pxwy, Pxwnoy):\n",
    "    spam_dict, S, ham_dict, H = training('./spam.mbox', './ham.mbox')\n",
    "    Si = 1\n",
    "    Hi = 1\n",
    "    Py = S/(S + H)\n",
    "    Pnoy = H/(S + H)\n",
    "    var1 = 1\n",
    "    for num in Pxwy:\n",
    "        var1 = var1*Py*num\n",
    "    var2 = 1\n",
    "    for num2 in Pxwnoy:\n",
    "        var2 = var2*Pnoy*num2\n",
    "    Pyxn = var1/(var1 + var2)\n",
    "    return Pyxn\n",
    "    "
   ]
  },
  {
   "cell_type": "code",
   "execution_count": null,
   "metadata": {
    "collapsed": true
   },
   "outputs": [],
   "source": [
    "# Función que recibe un mbox de correos nuevos\n",
    "# y que devuelva una lista de 0 o 1 para cada correo nuevo \n",
    "def clasification(newsbox):\n",
    "    wordsPerMail = words_per_mail(newsbox)\n",
    "    clas = []\n",
    "    for mailWords in wordsPerMail:\n",
    "        Pxwy, Pxwnoy = bestQualificationWords(mailWords)\n",
    "        probs = probOfBeingSpam(Pxwy, Pxwnoy)\n",
    "        if probs > 0.9:\n",
    "            clas.append(1)\n",
    "            print(\"hola\")\n",
    "        else:\n",
    "            clas.append(0)\n",
    "            print(\"hola2\")\n",
    "    return clas\n",
    "    "
   ]
  },
  {
   "cell_type": "markdown",
   "metadata": {},
   "source": [
    "# Clasificación Alternativa"
   ]
  },
  {
   "cell_type": "code",
   "execution_count": null,
   "metadata": {
    "collapsed": true
   },
   "outputs": [],
   "source": [
    "# Devuelve list de 15 palabras con mejor clasificación\n",
    "def top_15(words, spam_dict, ham_dict):\n",
    "    top = []  # De la forma: [ (Pw1, w1), (Pw2, w2), (Pw3, w3), ...]\n",
    "    for w in words:\n",
    "        sw = spam_dict[w] if w in spam_dict else 0\n",
    "        hw = ham_dict[w]  if w in ham_dict  else 0\n",
    "        p  = 0 if sw == 0 and hw == 0 else abs((sw-hw)/(2*sw+2*hw))  # p∈[0, 0.5] con 0.5 ≡ mejor clasificación\n",
    "        top.append(( p, w ))    \n",
    "    # Devuelve máximo 15 valores\n",
    "    return [word for prob, word in sorted(top,reverse=True)][:15]\n",
    "\n",
    "\n",
    "# Naïve-Bayes de P(y|x1,...,x15)\n",
    "def naive_bayes(words):\n",
    "    sw_acum = 1\n",
    "    hw_acum = 1\n",
    "    for w in words:\n",
    "        sw = spam_dict[w] if w in spam_dict else 1\n",
    "        hw = ham_dict[w]  if w in ham_dict  else 1\n",
    "        if sw != 0 or hw != 0:\n",
    "            sw_acum = sw_acum * sw\n",
    "            hw_acum = hw_acum * hw\n",
    "    return sw_acum/(sw_acum + hw_acum)\n"
   ]
  },
  {
   "cell_type": "code",
   "execution_count": null,
   "metadata": {
    "collapsed": true
   },
   "outputs": [],
   "source": [
    "# Función que recibe un mbox de correos nuevos\n",
    "# y que devuelva una lista de 0 o 1 para cada correo nuevo \n",
    "def clasification2(newsbox, spam_dict, ham_dict):\n",
    "    clas = []    \n",
    "    for words in words_per_mail(newsbox):\n",
    "        top_15_words = top_15(words, spam_dict, ham_dict)\n",
    "        probability  = naive_bayes(top_15_words)\n",
    "        is_spam      = 1 if probability > 0.9 else 0\n",
    "        clas.append(is_spam)        \n",
    "    return clas\n"
   ]
  },
  {
   "cell_type": "markdown",
   "metadata": {},
   "source": [
    "# Incorporación"
   ]
  },
  {
   "cell_type": "code",
   "execution_count": null,
   "metadata": {
    "collapsed": false
   },
   "outputs": [],
   "source": [
    "# Escribe el nuevo correo ubicado en la ruta 'new'\n",
    "# en el fichero de ruta 'box'\n",
    "def append_new_to_mbox(new, mbox):\n",
    "    with open(mbox, 'a') as writable:\n",
    "        with open(new) as readable:\n",
    "            writable.write(readable.read())\n",
    "\n",
    "\n",
    "# Actualiza dictionary a partir del set de palabras\n",
    "# del único mensaje contenido en 'new_box'\n",
    "def update_dict(new_box, dictionary):\n",
    "    new_words = next(words_per_mail(new_box))\n",
    "    merge_to_dict(new_words, dictionary)\n"
   ]
  },
  {
   "cell_type": "code",
   "execution_count": null,
   "metadata": {
    "collapsed": true
   },
   "outputs": [],
   "source": [
    "# Actualiza dictionary y escribe el contenido de new_box en mbox\n",
    "def incorporation(dictionary, new_box, mbox):\n",
    "    update_dict(new_box, dictionary)\n",
    "    append_new_to_mbox(new_box, mbox)\n"
   ]
  },
  {
   "cell_type": "markdown",
   "metadata": {},
   "source": [
    "# Uso"
   ]
  },
  {
   "cell_type": "code",
   "execution_count": null,
   "metadata": {
    "collapsed": false
   },
   "outputs": [],
   "source": [
    "# Archivos\n",
    "newspam = './new-spam.mbox'\n",
    "newham = './new-ham.mbox'\n",
    "spambox = './spam.mbox'\n",
    "hambox = './ham.mbox'\n",
    "\n",
    "# Entrenamiento\n",
    "spam_dict, S, ham_dict, H = training(spambox, hambox)\n",
    "\n",
    "# Clasificación\n",
    "  #probPerWord\n",
    "wordsPerMail = words_per_mail('./news.mbox')\n",
    "print(probPerWord(next(wordsPerMail)))\n",
    "  #bestQualificationWords\n",
    "Pxwy, Pxwnoy = bestQualificationWords(next(wordsPerMail))\n",
    "print(Pxwy, Pxwnoy)\n",
    "  #probOfBeingSpam\n",
    "print(probOfBeingSpam(Pxwy, Pxwnoy))  \n",
    "  #clasification\n",
    "cla =  clasification('./news.mbox')\n",
    "\n",
    "# Incorporación a spam.box\n",
    "incorporation(spam_dict, newspam, spambox)\n",
    "\n",
    "# Incorporación a ham.box\n",
    "incorporation(ham_dict, newham, hambox)"
   ]
  },
  {
   "cell_type": "markdown",
   "metadata": {},
   "source": [
    "# Uso Alternativo"
   ]
  },
  {
   "cell_type": "code",
   "execution_count": null,
   "metadata": {
    "collapsed": false
   },
   "outputs": [],
   "source": [
    "# Archivos\n",
    "newspam = './new-spam.mbox'\n",
    "newham = './new-ham.mbox'\n",
    "spambox = './spam.mbox'\n",
    "hambox = './ham.mbox'\n",
    "newsbox = './news.mbox'\n",
    "\n",
    "# Entrenamiento\n",
    "spam_dict, S, ham_dict, H = training(spambox, hambox)\n",
    "\n",
    "# Clasificación\n",
    "clas = clasification2(newsbox, spam_dict, ham_dict)\n",
    "\n",
    "# Incorporación a spam.box\n",
    "incorporation(spam_dict, newspam, spambox)\n",
    "\n",
    "# Incorporación a ham.box\n",
    "incorporation(ham_dict, newham, hambox)"
   ]
  },
  {
   "cell_type": "code",
   "execution_count": null,
   "metadata": {
    "collapsed": false
   },
   "outputs": [],
   "source": [
    "print(clas)"
   ]
  }
 ],
 "metadata": {
  "kernelspec": {
   "display_name": "Python 3",
   "language": "python",
   "name": "python3"
  },
  "language_info": {
   "codemirror_mode": {
    "name": "ipython",
    "version": 3
   },
   "file_extension": ".py",
   "mimetype": "text/x-python",
   "name": "python",
   "nbconvert_exporter": "python",
   "pygments_lexer": "ipython3",
   "version": "3.5.1"
  }
 },
 "nbformat": 4,
 "nbformat_minor": 0
}
