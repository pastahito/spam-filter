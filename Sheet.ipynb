{
 "cells": [
  {
   "cell_type": "markdown",
   "metadata": {},
   "source": [
    "# Filtro de spam mediante inferencia probabilística"
   ]
  },
  {
   "cell_type": "markdown",
   "metadata": {},
   "source": [
    "\n",
    "#### [Entrenamiento:](#Entrenamiento)\n",
    "- Separar un texto en palabras diferentes.\n",
    "- Devolver el texto del título y cuerpo del mensaje al iterar sobre un mbox.\n",
    "- Devolver el número de correos de un mbox junto a un diccionario de palabras con el número de correos en los que aparece.\n",
    "- Devolver dos diccionarios, uno para spambox y otro para hambox, y el número de correos que contiene cada mbox.\n",
    "\n",
    "\n",
    "#### [Clasificación:](#Clasificación)\n",
    "- Devolver una lista de máximo n palabras con mejor clasificación individual\n",
    "- Devolver la probabilidad P(y|x1, ..., xn) con suavizado aditivo de Laplace.\n",
    "- Devolver una lista de 0 o 1 por cada correo nuevo si es ham o spam, respectivamente.\n",
    "\n",
    "#### [Incorporación:](#Incorporación)\n",
    "- Escribir los correos nuevos en un mbox del conjunto de entrenamiento.\n",
    "- Devolver el nuevo número de correos del conjunto de entrenamiento y un nuevo diccionario actualizado\n",
    "- Agrupar las 2 tareas anteriores en un procedimiento. \n",
    "\n",
    "#### [Ejemplo de uso:](#Ejemplo-de-uso-de-los-3-procedimientos)\n",
    "- Ejemplo de uso de los 3 procedimientos anteriores"
   ]
  },
  {
   "cell_type": "markdown",
   "metadata": {},
   "source": [
    "# Entrenamiento"
   ]
  },
  {
   "cell_type": "markdown",
   "metadata": {},
   "source": [
    "### Utilidad"
   ]
  },
  {
   "cell_type": "code",
   "execution_count": null,
   "metadata": {
    "collapsed": true
   },
   "outputs": [],
   "source": [
    "from re import split\n",
    "import mailbox\n",
    "\n",
    "\n",
    "# Recibe un string con el subject y body del un solo correo\n",
    "# Devuelve un set con las palabras de ese string\n",
    "# separadas según delimiter, un regex\n",
    "def separate_in_words(text, delimiter):\n",
    "    words = set()\n",
    "    for w in split(delimiter, text):\n",
    "        words.add(w)\n",
    "    if '' in words:\n",
    "        words.remove('')\n",
    "    return words\n",
    "\n",
    "\n",
    "# Recibe un string con la ruta de un .mbox\n",
    "# Devuelve generator de un set de palabras por correo recorrido\n",
    "def words_per_mail(mbox, delimiter):  \n",
    "    for mail in mailbox.mbox(mbox):\n",
    "        text = mail['subject'] + ' ' + mail.get_payload()\n",
    "        words = separate_in_words(text, delimiter)\n",
    "        yield words\n",
    "\n",
    "\n",
    "# Recibe un string con la ruta de un .mbox\n",
    "# Devuelve dict con key = <una palabra> y value = <nº de correos en los que aparece>,\n",
    "# y el número de correos del mbox\n",
    "def training_dict(mbox, delimiter):\n",
    "    dictionary = {}\n",
    "    count = 0\n",
    "    for words in words_per_mail(mbox, delimiter):\n",
    "        for w in words:\n",
    "            dictionary[w] = dictionary[w] + 1 if w in dictionary else 1\n",
    "        count += 1\n",
    "    return dictionary, count\n",
    "\n"
   ]
  },
  {
   "cell_type": "markdown",
   "metadata": {},
   "source": [
    "### Procedimiento"
   ]
  },
  {
   "cell_type": "code",
   "execution_count": null,
   "metadata": {
    "collapsed": true
   },
   "outputs": [],
   "source": [
    "# Devuelve dict de la forma {'word' : Sw }, el número de correos Spam,\n",
    "# otro dict de la forma {'word' : Hw } y el número de correos Ham\n",
    "def training(spambox, hambox, delimiter = '\\W+'):\n",
    "    \n",
    "    spam_dict, s = training_dict(spambox, delimiter)    \n",
    "    ham_dict, h = training_dict(hambox, delimiter)\n",
    "    \n",
    "    return spam_dict, s, ham_dict, h\n"
   ]
  },
  {
   "cell_type": "markdown",
   "metadata": {},
   "source": [
    "# Clasificación"
   ]
  },
  {
   "cell_type": "markdown",
   "metadata": {},
   "source": [
    "### Utilidad"
   ]
  },
  {
   "cell_type": "code",
   "execution_count": null,
   "metadata": {
    "collapsed": false
   },
   "outputs": [],
   "source": [
    "# Devuelve lista de máximo n palabras con mejor clasificación individual\n",
    "def best_N_words(words, spam_dict, ham_dict, n):\n",
    "    \n",
    "    bests = []  # De la forma: [(Pw1, w1), (Pw2, w2), (Pw3, w3), ...]\n",
    "    for word in words:        \n",
    "        sw = spam_dict[word] if word in spam_dict else 0  # Ocurrencias en Spam\n",
    "        hw = ham_dict[word]  if word in ham_dict  else 0  # Ocurrencias en Ham\n",
    "        \n",
    "        # Bayes de P(y|x) ∈ [0,1] con 0.5 si es palabra neutra\n",
    "        # P(y|x) más próximo a 1 o 0 es la mejor clasificación individual\n",
    "        prob = 0.5 if sw == 0 and hw == 0 else sw/(sw+hw)\n",
    "        \n",
    "        p  = abs(prob - 0.5)  # Ahora 0.5 es la mejor clasificación individual, con p ∈ [0,0.5]\n",
    "        \n",
    "        if p != 0:\n",
    "            bests.append(( p, word ))  # Excluimos las palabras neutras de p = 0\n",
    "            \n",
    "    # Ordenamos de forma decreciente por probabilidad y devolvemos las n primeras palabras\n",
    "    return [word for probability, word in sorted(bests, reverse=True)][:n]\n",
    "\n",
    "\n",
    "# Naive-Bayes de P(y|x1,...,xn) que suaviza creando entrada ficticia\n",
    "# en el conjunto de entrenamiento por cada palabra que no se encuentra en este\n",
    "def naive_bayes(bests, spam_dict, s, ham_dict, h, debug):\n",
    "    \n",
    "    debug = print if debug else lambda *a: None  # Igual a print(), o a función que no hace nada\n",
    "    \n",
    "    s_extra = h_extra = 0  # Cuenta las veces que suavizamos\n",
    "    pi_sw   = pi_hw   = 1  # ∏Sw y ∏Hw para Naive Bayes\n",
    "    \n",
    "    for word in bests:        \n",
    "        sw = spam_dict[word] if word in spam_dict else 0  # Ocurrencias en Spam\n",
    "        hw = ham_dict[word]  if word in ham_dict  else 0  # Ocurrencias en Ham\n",
    "        \n",
    "        # Suavizamos al cambiar 0 por 1 y contamos las veces que lo hacemos\n",
    "        if sw==0:\n",
    "            s_extra += 1\n",
    "            sw = 1\n",
    "        if hw==0:\n",
    "            h_extra += 1\n",
    "            hw = 1\n",
    "        \n",
    "        pi_sw *= sw\n",
    "        pi_hw *= hw\n",
    "        \n",
    "        debug('Sw:',sw, '— Hw:', hw, '—', word)\n",
    "    \n",
    "    s += s_extra*len(bests)  # Agregamos tantos 1 como veces hemos suavizado\n",
    "    h += h_extra*len(bests)\n",
    "    \n",
    "    probability = pi_sw / (pi_sw + pi_hw * (s/h) ** (len(bests)-1))  # Naive Bayes\n",
    "    \n",
    "    debug('S:', s, '— H:', h)\n",
    "    debug('∏Sw:', pi_sw, '— ∏Hw:', pi_hw)        \n",
    "    debug('P(y|x1...xn):',probability, '=> Spam' if probability > 0.9 else '=> Ham', '\\n')\n",
    "    \n",
    "    return probability\n"
   ]
  },
  {
   "cell_type": "markdown",
   "metadata": {},
   "source": [
    "### Procedimiento"
   ]
  },
  {
   "cell_type": "code",
   "execution_count": null,
   "metadata": {
    "collapsed": false
   },
   "outputs": [],
   "source": [
    "# Función que recibe un mbox de correos nuevos\n",
    "# Devuelve una lista de 0 o 1 por cada correo nuevo si es ham o spam\n",
    "def clasification(newsbox, spam_dict, s, ham_dict, h, delimiter = '\\W+', n = 15, debug = False):\n",
    "    \n",
    "    clas = []\n",
    "    \n",
    "    for words in words_per_mail(newsbox, delimiter):\n",
    "        \n",
    "        bests = best_N_words(words, spam_dict, ham_dict, n)\n",
    "        \n",
    "        probability  = naive_bayes(bests, spam_dict, s, ham_dict, h, debug = debug)\n",
    "        \n",
    "        is_spam      = 1 if probability > 0.9 else 0\n",
    "        \n",
    "        clas.append(is_spam)\n",
    "        \n",
    "    return clas\n"
   ]
  },
  {
   "cell_type": "markdown",
   "metadata": {},
   "source": [
    "# Incorporación"
   ]
  },
  {
   "cell_type": "markdown",
   "metadata": {},
   "source": [
    "### Utilidad"
   ]
  },
  {
   "cell_type": "code",
   "execution_count": null,
   "metadata": {
    "collapsed": false
   },
   "outputs": [],
   "source": [
    "# Escribe los correos nuevos del mbox ubicado en la ruta 'new_mbox'\n",
    "# en el mbox ubicado en la ruta 'mbox'\n",
    "def append_new_to_mbox(new_mbox, mbox):\n",
    "    with open(mbox, 'a') as writable:\n",
    "        with open(new_mbox) as readable:\n",
    "            writable.write(readable.read())   \n",
    "\n",
    "            \n",
    "# devuelve size actualizado y un nuevo dictionary actualizado a partir del set de palabras\n",
    "# de cada correo del mbox ubicado en la ruta 'new_mbox'\n",
    "def update_dict_and_size(new_mbox, dictionary, size, delimiter):\n",
    "    updated_dict = dictionary.copy()\n",
    "    for words in words_per_mail(new_mbox, delimiter):\n",
    "        for w in words:\n",
    "            updated_dict[w] = updated_dict[w] + 1 if w in updated_dict else 1\n",
    "        size += 1\n",
    "    return updated_dict, size\n"
   ]
  },
  {
   "cell_type": "markdown",
   "metadata": {},
   "source": [
    "### Procedimiento"
   ]
  },
  {
   "cell_type": "code",
   "execution_count": null,
   "metadata": {
    "collapsed": true
   },
   "outputs": [],
   "source": [
    "# Escribe los correos del mbox ubicado en la ruta 'new_mbox' en el mbox ubicado en la ruta 'mbox'\n",
    "# Actualiza los dictionarios y tamaño de este mbox\n",
    "# Tras su uso, no requiere volver a ejecutar training()\n",
    "def incorporation(new_mbox, mbox, dictionary, size, delimiter = '\\W+'):\n",
    "    append_new_to_mbox(new_mbox, mbox)\n",
    "    return update_dict_and_size(new_mbox, dictionary, size, delimiter)\n"
   ]
  },
  {
   "cell_type": "markdown",
   "metadata": {},
   "source": [
    "# Ejemplo de uso de los 3 procedimientos"
   ]
  },
  {
   "cell_type": "markdown",
   "metadata": {},
   "source": [
    "### Variables"
   ]
  },
  {
   "cell_type": "markdown",
   "metadata": {},
   "source": [
    "- Rutas de archivos y parametros opcionales de training(), clasification() e incorporation()"
   ]
  },
  {
   "cell_type": "code",
   "execution_count": null,
   "metadata": {
    "collapsed": false
   },
   "outputs": [],
   "source": [
    "hambox = './ham.mbox'\n",
    "spambox = './spam.mbox'\n",
    "newsbox = './news.mbox'\n",
    "new_hambox  = './new-ham.mbox'\n",
    "new_spambox = './new-spam.mbox'\n",
    "\n",
    "# Criterio de separación alternativo\n",
    "# delimiter = '[.@_#/]?[\\s]+|[,;:()<>*~][\\s]*'\n",
    "\n",
    "# Número de palabras alternativo para hacer Näive-Bayes\n",
    "# n = 19"
   ]
  },
  {
   "cell_type": "markdown",
   "metadata": {},
   "source": [
    "### Uso de training()\n",
    "- Parámetro delimiter es opcional, por defecto es '\\W+', cualquier secuencia de caracteres no alfanúmericos."
   ]
  },
  {
   "cell_type": "code",
   "execution_count": null,
   "metadata": {
    "collapsed": false
   },
   "outputs": [],
   "source": [
    "# Entrenamiento\n",
    "spam_dict, s, ham_dict, h = training(spambox, hambox)\n",
    "\n",
    "# Cantidad actual de correos spam y ham para el entrenamiento\n",
    "print('[Tras el entrenamiento]')\n",
    "print('S:', s, '— H:', h)\n",
    "print('#Sw:', len(spam_dict), '— #Hw:', len(ham_dict))"
   ]
  },
  {
   "cell_type": "markdown",
   "metadata": {},
   "source": [
    "### Uso de clasification()\n",
    "- Parámetro delimiter es opcional, por defecto es '\\W+', cualquier secuencia de caracteres no alfanúmericos.\n",
    "- Parámetro n es opcional, por defecto es 15.\n",
    "- Parámetro debug es opcional, por defecto False. Si es True imprime información sobre el cálculo de naive bayes.\n",
    "- Requiere que training() haya sido ejecutado antes."
   ]
  },
  {
   "cell_type": "code",
   "execution_count": null,
   "metadata": {
    "collapsed": false
   },
   "outputs": [],
   "source": [
    "# Clasificación\n",
    "res = clasification(newsbox, spam_dict, s, ham_dict, h, debug = False)\n",
    "\n",
    "print(res)"
   ]
  },
  {
   "cell_type": "markdown",
   "metadata": {},
   "source": [
    "### Uso de incorporation()\n",
    "- Parámetro delimiter es opcional, por defecto es '\\W+', cualquier secuencia de caracteres no alfanúmericos.\n",
    "- Escribe los nuevos correos en los archivos spambox y hambox\n",
    "- Actualiza los dictionarios y tamaños de ambos mbox"
   ]
  },
  {
   "cell_type": "code",
   "execution_count": null,
   "metadata": {
    "collapsed": false
   },
   "outputs": [],
   "source": [
    "# Cantidad actual de correos spam y ham para el entrenamiento\n",
    "print('[Antes de incorporar]')\n",
    "print('S:', s, '— H:', h)\n",
    "print('#Sw:', len(spam_dict), '— #Hw:', len(ham_dict))\n",
    "\n",
    "# Incorporación a spam.box\n",
    "spam_dict, s = incorporation(new_spambox, spambox, spam_dict, s)\n",
    "\n",
    "# Incorporación a ham.box\n",
    "ham_dict, h = incorporation(new_hambox, hambox, ham_dict, h)\n",
    "\n",
    "# Cantidad nueva de correos spam y ham para el entrenamiento\n",
    "print('\\n[Después de incorporar]')\n",
    "print('S:', s, '— H:', h)\n",
    "print('#Sw:', len(spam_dict), '— #Hw:', len(ham_dict))"
   ]
  }
 ],
 "metadata": {
  "kernelspec": {
   "display_name": "Python 3",
   "language": "python",
   "name": "python3"
  },
  "language_info": {
   "codemirror_mode": {
    "name": "ipython",
    "version": 3
   },
   "file_extension": ".py",
   "mimetype": "text/x-python",
   "name": "python",
   "nbconvert_exporter": "python",
   "pygments_lexer": "ipython3",
   "version": "3.5.1"
  }
 },
 "nbformat": 4,
 "nbformat_minor": 0
}
